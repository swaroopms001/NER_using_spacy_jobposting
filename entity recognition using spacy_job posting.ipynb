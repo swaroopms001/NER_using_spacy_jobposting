{
 "cells": [
  {
   "cell_type": "code",
   "execution_count": 1,
   "metadata": {},
   "outputs": [],
   "source": [
    "import pandas as pd\n",
    "import os\n",
    "import sys\n",
    "import re\n",
    "import ast\n",
    "from ast import literal_eval\n",
    "import plac\n",
    "import random\n",
    "from pathlib import Path\n",
    "import spacy\n",
    "import re\n",
    "from spacy.util import minibatch, compounding\n",
    "import seaborn as sns"
   ]
  },
  {
   "cell_type": "code",
   "execution_count": 2,
   "metadata": {},
   "outputs": [
    {
     "name": "stdout",
     "output_type": "stream",
     "text": [
      "Collecting plac\n",
      "  Downloading plac-1.3.3-py2.py3-none-any.whl (22 kB)\n",
      "Installing collected packages: plac\n",
      "Successfully installed plac-1.3.3\n",
      "Note: you may need to restart the kernel to use updated packages.\n"
     ]
    }
   ],
   "source": [
    "pip install plac"
   ]
  },
  {
   "cell_type": "code",
   "execution_count": 11,
   "metadata": {},
   "outputs": [
    {
     "data": {
      "text/plain": [
       "'C:\\\\Users\\\\Swaroop'"
      ]
     },
     "execution_count": 11,
     "metadata": {},
     "output_type": "execute_result"
    }
   ],
   "source": [
    "\n",
    "os.getcwd()"
   ]
  },
  {
   "cell_type": "code",
   "execution_count": 9,
   "metadata": {},
   "outputs": [
    {
     "data": {
      "text/plain": [
       "['.conda',\n",
       " '.condarc',\n",
       " '.ipynb_checkpoints',\n",
       " '.ipython',\n",
       " '.jupyter',\n",
       " '.matplotlib',\n",
       " '.spyder-py3',\n",
       " '.VirtualBox',\n",
       " '01 assignment part a.ipynb',\n",
       " '01 assignment part b.ipynb',\n",
       " '01_introduction.ipynb',\n",
       " '02_operators.ipynb',\n",
       " '03_control flow.ipynb',\n",
       " '04. list.ipynb',\n",
       " '05. Tuples.ipynb',\n",
       " '06. Functions.ipynb',\n",
       " '07. Data files.ipynb',\n",
       " '08. lambda functions.ipynb',\n",
       " '09. List comprehensions.ipynb',\n",
       " '10. class and objects.ipynb',\n",
       " '11.   Numpy.ipynb',\n",
       " '1614173191814_MCL605LabFinalExamIncompleteRCode.ipynb',\n",
       " '201046013_ThejasTR_1stsessional.ipynb',\n",
       " '3 a. patterns.ipynb',\n",
       " '3D Objects',\n",
       " 'amazon',\n",
       " 'amazonPdv',\n",
       " 'anaconda3',\n",
       " 'AppData',\n",
       " 'Application Data',\n",
       " 'assign 1 part b.ipynb',\n",
       " 'assign 2 part b.ipynb',\n",
       " 'AssignmentLab5thNov_201046018-1.ipynb',\n",
       " 'Audio Feature Extraction-1.py.ipynb',\n",
       " 'Audio Feature Extraction-2.py.ipynb',\n",
       " 'Audio Feature Extraction-3.py.ipynb',\n",
       " 'BeautifulSoupPractice.ipynb',\n",
       " 'beautiful_soup_mit_swaroop.ipynb',\n",
       " 'bhanu1.ipynb',\n",
       " 'bhanu2.ipynb',\n",
       " 'bhanu3.ipynb',\n",
       " 'booksnew.csv',\n",
       " 'Ch01_Natural_Language_Processing_Basics.ipynb',\n",
       " 'clustering practise.ipynb',\n",
       " 'Clustering_KMeans.ipynb',\n",
       " 'Contacts',\n",
       " 'Cookies',\n",
       " 'Data_Exploration.ipynb',\n",
       " 'data_wrangling (1).ipynb',\n",
       " 'debug.log',\n",
       " 'demo11.txt',\n",
       " 'derby.log',\n",
       " 'Desktop',\n",
       " 'Documents',\n",
       " 'Downloads',\n",
       " 'EDA1_Titanic_dataset.ipynb',\n",
       " 'entity recognition using spacy_job posting.ipynb',\n",
       " 'Exercise03_Dataframes.ipynb',\n",
       " 'ExerciseOnPanda_1.ipynb',\n",
       " 'ExerciseOnRegularExpression.ipynb',\n",
       " 'ExerciseOnStringManipulation.ipynb',\n",
       " 'ExerciseOnVisualization.ipynb',\n",
       " 'ExerciseOnVisualization2.ipynb',\n",
       " 'Exercise_SparkSQL04.ipynb',\n",
       " 'e_commerce_spark.ipynb',\n",
       " 'Favorites',\n",
       " 'first.ipynb',\n",
       " 'fml lab 17-12-20.ipynb',\n",
       " 'FML_Assign_1_MSSwaroop.ipynb',\n",
       " 'FML_FINAL_LAB_SUBMISSION.ipynb',\n",
       " 'FML_LabAssign5_MSSwaroop.ipynb',\n",
       " 'FML_LabAssign_1_MSSwaroop.ipynb',\n",
       " 'FML_Labsessional.ipynb',\n",
       " 'FML_LabTest_201046035.ipynb',\n",
       " 'FML_Lab_Assignment1.ipynb',\n",
       " 'FML_Lab_Assignment1_201046035.ipynb',\n",
       " 'FML_Lab_assignment2.ipynb',\n",
       " 'FML_Lab_assignment2_201046035.ipynb',\n",
       " 'FML_Lab_Assignment3.ipynb',\n",
       " 'FML_Lab_Assignment3_201046035.ipynb',\n",
       " 'FML_Lab_assignment_swaroop.ipynb',\n",
       " 'GaneshGSrinivas_MCL605LabFinalExam.ipynb',\n",
       " 'hive_spark_sql.ipynb',\n",
       " 'Image Segmentation MMA.ipynb',\n",
       " 'image_segmentation.ipynb',\n",
       " 'InferentialStatistics.ipynb',\n",
       " 'integers.txt',\n",
       " 'IntelGraphicsProfiles',\n",
       " 'Intro_Pandas.ipynb',\n",
       " 'Iris_data_analysis_using_pandas.ipynb',\n",
       " 'iris_pyspark.ipynb',\n",
       " 'itie.txt',\n",
       " 'Linkdn_skill_analysis.ipynb',\n",
       " 'Links',\n",
       " 'Local Settings',\n",
       " 'manipal_spark practice.ipynb',\n",
       " 'manipal_spark_DataFrames.ipynb',\n",
       " 'manipal_spark_dateTime.ipynb',\n",
       " 'Microsoft',\n",
       " 'MicrosoftEdgeBackups',\n",
       " 'mob_Details.csv',\n",
       " 'mod_details.csv',\n",
       " 'MT.ipynb',\n",
       " 'Music',\n",
       " 'My Documents',\n",
       " 'names.txt',\n",
       " 'NetHood',\n",
       " 'Nirmalkumar_201051010_AML_LabSessional(1).ipynb',\n",
       " 'NITHIN_G_K_.ipynb',\n",
       " 'notebook.tex',\n",
       " 'NTUSER.DAT',\n",
       " 'ntuser.dat.LOG1',\n",
       " 'ntuser.dat.LOG2',\n",
       " 'NTUSER.DAT{94053df2-480a-11eb-9d62-005056c00008}.TM.blf',\n",
       " 'NTUSER.DAT{94053df2-480a-11eb-9d62-005056c00008}.TMContainer00000000000000000001.regtrans-ms',\n",
       " 'NTUSER.DAT{94053df2-480a-11eb-9d62-005056c00008}.TMContainer00000000000000000002.regtrans-ms',\n",
       " 'ntuser.ini',\n",
       " 'numpy_intro.ipynb',\n",
       " 'OneDrive',\n",
       " 'output_10_0.png',\n",
       " 'output_12_0.png',\n",
       " 'output_12_2.png',\n",
       " 'pandas classroom explanation.ipynb',\n",
       " 'pandas.ipynb',\n",
       " 'parse_company_info.ipynb',\n",
       " 'PDV_EXAM.ipynb',\n",
       " 'PDV_lab_internal_201049035.ipynb',\n",
       " 'PDV_lab_internal_201049035_original.ipynb',\n",
       " 'PDV_sessional2_201046035.ipynb',\n",
       " 'people_dataset.ipynb',\n",
       " 'Pictures',\n",
       " 'practise data wrangling pdv mit.ipynb',\n",
       " 'PrintHood',\n",
       " 'ProbabilityAndFrequency.ipynb',\n",
       " 'python',\n",
       " 'ramj',\n",
       " 'random.ipynb',\n",
       " 'Recent',\n",
       " 'Saved Games',\n",
       " 'Searches',\n",
       " 'Selenium 2.ipynb',\n",
       " 'Selenium-r1.ipynb',\n",
       " 'Selenium-r2-Example.ipynb',\n",
       " 'Seminar (1).ipynb',\n",
       " 'SendTo',\n",
       " 'Skanda_Hegde_M_R_201046044_PDV_EDA.ipynb',\n",
       " 'spark_windows',\n",
       " 'SPOORTHI_201046010.ipynb',\n",
       " 'Start Menu',\n",
       " 'Swaroop_201046035_pdv_EDA.ipynb',\n",
       " 'Templates',\n",
       " 'titanic_dataset.ipynb',\n",
       " 'titanic_pyspark.ipynb',\n",
       " 'Untitled1.ipynb',\n",
       " 'Untitled9.ipynb',\n",
       " 'Videos',\n",
       " 'VirtualBox VMs']"
      ]
     },
     "execution_count": 9,
     "metadata": {},
     "output_type": "execute_result"
    }
   ],
   "source": [
    "os.listdir()"
   ]
  },
  {
   "cell_type": "code",
   "execution_count": 12,
   "metadata": {},
   "outputs": [],
   "source": [
    "df = pd.read_csv(\"data_job_posts.csv\")"
   ]
  },
  {
   "cell_type": "code",
   "execution_count": 14,
   "metadata": {},
   "outputs": [
    {
     "data": {
      "text/plain": [
       "(19001, 24)"
      ]
     },
     "execution_count": 14,
     "metadata": {},
     "output_type": "execute_result"
    }
   ],
   "source": [
    "df.shape"
   ]
  },
  {
   "cell_type": "code",
   "execution_count": 18,
   "metadata": {},
   "outputs": [
    {
     "data": {
      "text/plain": [
       "<AxesSubplot:>"
      ]
     },
     "execution_count": 18,
     "metadata": {},
     "output_type": "execute_result"
    },
    {
     "data": {
      "image/png": "[encoded data removed]",
      "text/plain": [
       "<Figure size 432x288 with 1 Axes>"
      ]
     },
     "metadata": {
      "needs_background": "light"
     },
     "output_type": "display_data"
    }
   ],
   "source": [
    "sns.heatmap(df.isnull(), yticklabels=False, cbar=False, cmap='viridis')\n"
   ]
  },
  {
   "cell_type": "code",
   "execution_count": 19,
   "metadata": {},
   "outputs": [
    {
     "data": {
      "text/plain": [
       "Index(['jobpost', 'date', 'Title', 'Company', 'AnnouncementCode', 'Term',\n",
       "       'Eligibility', 'Audience', 'StartDate', 'Duration', 'Location',\n",
       "       'JobDescription', 'JobRequirment', 'RequiredQual', 'Salary',\n",
       "       'ApplicationP', 'OpeningDate', 'Deadline', 'Notes', 'AboutC', 'Attach',\n",
       "       'Year', 'Month', 'IT'],\n",
       "      dtype='object')"
      ]
     },
     "execution_count": 19,
     "metadata": {},
     "output_type": "execute_result"
    }
   ],
   "source": [
    "df.columns"
   ]
  },
  {
   "cell_type": "code",
   "execution_count": 20,
   "metadata": {},
   "outputs": [
    {
     "data": {
      "text/html": [
       "<div>\n",
       "<style scoped>\n",
       "    .dataframe tbody tr th:only-of-type {\n",
       "        vertical-align: middle;\n",
       "    }\n",
       "\n",
       "    .dataframe tbody tr th {\n",
       "        vertical-align: top;\n",
       "    }\n",
       "\n",
       "    .dataframe thead th {\n",
       "        text-align: right;\n",
       "    }\n",
       "</style>\n",
       "<table border=\"1\" class=\"dataframe\">\n",
       "  <thead>\n",
       "    <tr style=\"text-align: right;\">\n",
       "      <th></th>\n",
       "      <th>jobpost</th>\n",
       "      <th>date</th>\n",
       "      <th>Title</th>\n",
       "      <th>Company</th>\n",
       "      <th>AnnouncementCode</th>\n",
       "      <th>Term</th>\n",
       "      <th>Eligibility</th>\n",
       "      <th>Audience</th>\n",
       "      <th>StartDate</th>\n",
       "      <th>Duration</th>\n",
       "      <th>...</th>\n",
       "      <th>Salary</th>\n",
       "      <th>ApplicationP</th>\n",
       "      <th>OpeningDate</th>\n",
       "      <th>Deadline</th>\n",
       "      <th>Notes</th>\n",
       "      <th>AboutC</th>\n",
       "      <th>Attach</th>\n",
       "      <th>Year</th>\n",
       "      <th>Month</th>\n",
       "      <th>IT</th>\n",
       "    </tr>\n",
       "  </thead>\n",
       "  <tbody>\n",
       "    <tr>\n",
       "      <th>0</th>\n",
       "      <td>AMERIA Investment Consulting Company\\r\\nJOB TI...</td>\n",
       "      <td>Jan 5, 2004</td>\n",
       "      <td>Chief Financial Officer</td>\n",
       "      <td>AMERIA Investment Consulting Company</td>\n",
       "      <td>NaN</td>\n",
       "      <td>NaN</td>\n",
       "      <td>NaN</td>\n",
       "      <td>NaN</td>\n",
       "      <td>NaN</td>\n",
       "      <td>NaN</td>\n",
       "      <td>...</td>\n",
       "      <td>NaN</td>\n",
       "      <td>To apply for this position, please submit a\\r\\...</td>\n",
       "      <td>NaN</td>\n",
       "      <td>26 January 2004</td>\n",
       "      <td>NaN</td>\n",
       "      <td>NaN</td>\n",
       "      <td>NaN</td>\n",
       "      <td>2004</td>\n",
       "      <td>1</td>\n",
       "      <td>False</td>\n",
       "    </tr>\n",
       "    <tr>\n",
       "      <th>1</th>\n",
       "      <td>International Research &amp; Exchanges Board (IREX...</td>\n",
       "      <td>Jan 7, 2004</td>\n",
       "      <td>Full-time Community Connections Intern (paid i...</td>\n",
       "      <td>International Research &amp; Exchanges Board (IREX)</td>\n",
       "      <td>NaN</td>\n",
       "      <td>NaN</td>\n",
       "      <td>NaN</td>\n",
       "      <td>NaN</td>\n",
       "      <td>NaN</td>\n",
       "      <td>3 months</td>\n",
       "      <td>...</td>\n",
       "      <td>NaN</td>\n",
       "      <td>Please submit a cover letter and resume to:\\r\\...</td>\n",
       "      <td>NaN</td>\n",
       "      <td>12 January 2004</td>\n",
       "      <td>NaN</td>\n",
       "      <td>The International Research &amp; Exchanges Board (...</td>\n",
       "      <td>NaN</td>\n",
       "      <td>2004</td>\n",
       "      <td>1</td>\n",
       "      <td>False</td>\n",
       "    </tr>\n",
       "    <tr>\n",
       "      <th>2</th>\n",
       "      <td>Caucasus Environmental NGO Network (CENN)\\r\\nJ...</td>\n",
       "      <td>Jan 7, 2004</td>\n",
       "      <td>Country Coordinator</td>\n",
       "      <td>Caucasus Environmental NGO Network (CENN)</td>\n",
       "      <td>NaN</td>\n",
       "      <td>NaN</td>\n",
       "      <td>NaN</td>\n",
       "      <td>NaN</td>\n",
       "      <td>NaN</td>\n",
       "      <td>Renewable annual contract\\r\\nPOSITION</td>\n",
       "      <td>...</td>\n",
       "      <td>NaN</td>\n",
       "      <td>Please send resume or CV toursula.kazarian@......</td>\n",
       "      <td>NaN</td>\n",
       "      <td>20 January 2004\\r\\nSTART DATE:  February 2004</td>\n",
       "      <td>NaN</td>\n",
       "      <td>The Caucasus Environmental NGO Network is a\\r\\...</td>\n",
       "      <td>NaN</td>\n",
       "      <td>2004</td>\n",
       "      <td>1</td>\n",
       "      <td>False</td>\n",
       "    </tr>\n",
       "    <tr>\n",
       "      <th>3</th>\n",
       "      <td>Manoff Group\\r\\nJOB TITLE:  BCC Specialist\\r\\n...</td>\n",
       "      <td>Jan 7, 2004</td>\n",
       "      <td>BCC Specialist</td>\n",
       "      <td>Manoff Group</td>\n",
       "      <td>NaN</td>\n",
       "      <td>NaN</td>\n",
       "      <td>NaN</td>\n",
       "      <td>NaN</td>\n",
       "      <td>NaN</td>\n",
       "      <td>NaN</td>\n",
       "      <td>...</td>\n",
       "      <td>NaN</td>\n",
       "      <td>Please send cover letter and resume to Amy\\r\\n...</td>\n",
       "      <td>NaN</td>\n",
       "      <td>23 January 2004\\r\\nSTART DATE:  Immediate</td>\n",
       "      <td>NaN</td>\n",
       "      <td>NaN</td>\n",
       "      <td>NaN</td>\n",
       "      <td>2004</td>\n",
       "      <td>1</td>\n",
       "      <td>False</td>\n",
       "    </tr>\n",
       "    <tr>\n",
       "      <th>4</th>\n",
       "      <td>Yerevan Brandy Company\\r\\nJOB TITLE:  Software...</td>\n",
       "      <td>Jan 10, 2004</td>\n",
       "      <td>Software Developer</td>\n",
       "      <td>Yerevan Brandy Company</td>\n",
       "      <td>NaN</td>\n",
       "      <td>NaN</td>\n",
       "      <td>NaN</td>\n",
       "      <td>NaN</td>\n",
       "      <td>NaN</td>\n",
       "      <td>NaN</td>\n",
       "      <td>...</td>\n",
       "      <td>NaN</td>\n",
       "      <td>Successful candidates should submit\\r\\n- CV; \\...</td>\n",
       "      <td>NaN</td>\n",
       "      <td>20 January 2004, 18:00</td>\n",
       "      <td>NaN</td>\n",
       "      <td>NaN</td>\n",
       "      <td>NaN</td>\n",
       "      <td>2004</td>\n",
       "      <td>1</td>\n",
       "      <td>True</td>\n",
       "    </tr>\n",
       "  </tbody>\n",
       "</table>\n",
       "<p>5 rows × 24 columns</p>\n",
       "</div>"
      ],
      "text/plain": [
       "                                             jobpost          date  \\\n",
       "0  AMERIA Investment Consulting Company\\r\\nJOB TI...   Jan 5, 2004   \n",
       "1  International Research & Exchanges Board (IREX...   Jan 7, 2004   \n",
       "2  Caucasus Environmental NGO Network (CENN)\\r\\nJ...   Jan 7, 2004   \n",
       "3  Manoff Group\\r\\nJOB TITLE:  BCC Specialist\\r\\n...   Jan 7, 2004   \n",
       "4  Yerevan Brandy Company\\r\\nJOB TITLE:  Software...  Jan 10, 2004   \n",
       "\n",
       "                                               Title  \\\n",
       "0                            Chief Financial Officer   \n",
       "1  Full-time Community Connections Intern (paid i...   \n",
       "2                                Country Coordinator   \n",
       "3                                     BCC Specialist   \n",
       "4                                 Software Developer   \n",
       "\n",
       "                                           Company AnnouncementCode Term  \\\n",
       "0             AMERIA Investment Consulting Company              NaN  NaN   \n",
       "1  International Research & Exchanges Board (IREX)              NaN  NaN   \n",
       "2        Caucasus Environmental NGO Network (CENN)              NaN  NaN   \n",
       "3                                     Manoff Group              NaN  NaN   \n",
       "4                           Yerevan Brandy Company              NaN  NaN   \n",
       "\n",
       "  Eligibility Audience StartDate                               Duration  ...  \\\n",
       "0         NaN      NaN       NaN                                    NaN  ...   \n",
       "1         NaN      NaN       NaN                               3 months  ...   \n",
       "2         NaN      NaN       NaN  Renewable annual contract\\r\\nPOSITION  ...   \n",
       "3         NaN      NaN       NaN                                    NaN  ...   \n",
       "4         NaN      NaN       NaN                                    NaN  ...   \n",
       "\n",
       "  Salary                                       ApplicationP OpeningDate  \\\n",
       "0    NaN  To apply for this position, please submit a\\r\\...         NaN   \n",
       "1    NaN  Please submit a cover letter and resume to:\\r\\...         NaN   \n",
       "2    NaN  Please send resume or CV toursula.kazarian@......         NaN   \n",
       "3    NaN  Please send cover letter and resume to Amy\\r\\n...         NaN   \n",
       "4    NaN  Successful candidates should submit\\r\\n- CV; \\...         NaN   \n",
       "\n",
       "                                        Deadline Notes  \\\n",
       "0                                26 January 2004   NaN   \n",
       "1                                12 January 2004   NaN   \n",
       "2  20 January 2004\\r\\nSTART DATE:  February 2004   NaN   \n",
       "3      23 January 2004\\r\\nSTART DATE:  Immediate   NaN   \n",
       "4                         20 January 2004, 18:00   NaN   \n",
       "\n",
       "                                              AboutC Attach  Year Month     IT  \n",
       "0                                                NaN    NaN  2004     1  False  \n",
       "1  The International Research & Exchanges Board (...    NaN  2004     1  False  \n",
       "2  The Caucasus Environmental NGO Network is a\\r\\...    NaN  2004     1  False  \n",
       "3                                                NaN    NaN  2004     1  False  \n",
       "4                                                NaN    NaN  2004     1   True  \n",
       "\n",
       "[5 rows x 24 columns]"
      ]
     },
     "execution_count": 20,
     "metadata": {},
     "output_type": "execute_result"
    }
   ],
   "source": [
    "df.head()"
   ]
  },
  {
   "cell_type": "code",
   "execution_count": 21,
   "metadata": {},
   "outputs": [
    {
     "data": {
      "text/plain": [
       "8636"
      ]
     },
     "execution_count": 21,
     "metadata": {},
     "output_type": "execute_result"
    }
   ],
   "source": [
    "df[\"Title\"].nunique() # number of unique job titles\n"
   ]
  },
  {
   "cell_type": "code",
   "execution_count": 22,
   "metadata": {},
   "outputs": [
    {
     "data": {
      "text/plain": [
       "jobpost             18892\n",
       "date                 4391\n",
       "Title                8636\n",
       "Company              4554\n",
       "AnnouncementCode     1014\n",
       "Term                  411\n",
       "Eligibility           663\n",
       "Audience              216\n",
       "StartDate            1186\n",
       "Duration             1515\n",
       "Location              759\n",
       "JobDescription      12861\n",
       "JobRequirment       14182\n",
       "RequiredQual        16688\n",
       "Salary               2692\n",
       "ApplicationP        14187\n",
       "OpeningDate          3344\n",
       "Deadline             5202\n",
       "Notes                1031\n",
       "AboutC               6016\n",
       "Attach               1495\n",
       "Year                   12\n",
       "Month                  12\n",
       "IT                      2\n",
       "dtype: int64"
      ]
     },
     "execution_count": 22,
     "metadata": {},
     "output_type": "execute_result"
    }
   ],
   "source": [
    "df.nunique()"
   ]
  },
  {
   "cell_type": "code",
   "execution_count": 32,
   "metadata": {},
   "outputs": [],
   "source": [
    "class trainDataGenerator(object):\n",
    "    def __init__(self ,text):\n",
    "        self.text = text\n",
    "        self.entities = []\n",
    "\n",
    "    def add_entity(self, searchTerm='' ,entity_name=''):\n",
    "        try:\n",
    "            reponse= re.search(searchTerm,self.text)\n",
    "            data_entity=(response.start(), response.end(), entity_name)\n",
    "            self.entities.append(data_entity)\n",
    "        except Exception as e: \n",
    "            pass\n",
    "    \n",
    "    def complete_entity(self):\n",
    "        entity_tem= {\"entities\": self.entities}\n",
    "        data= (self.text, entity_tem)\n",
    "        entities = entity_tem.get(\"entities\")\n",
    "    \n",
    "        for i in range(0,len(entities)):\n",
    "            for j in range(i+1,len(entities)):\n",
    "            \n",
    "                startIndex1=entities[i][0]\n",
    "                endIndex1=entities[i][1]\n",
    "            \n",
    "                startIndex2= entities[j][0]\n",
    "                endIndex2= entities[j][1]\n",
    "        \n",
    "                if startIndex1 in range(startIndex2,endIndex2):\n",
    "                    return False\n",
    "                if endIndex1 in range(startIndex2,endIndex2):\n",
    "                    return False\n",
    "            \n",
    "        return data\n",
    "        "
   ]
  },
  {
   "cell_type": "code",
   "execution_count": 33,
   "metadata": {},
   "outputs": [],
   "source": [
    "TRAIN_DATA=[]"
   ]
  },
  {
   "cell_type": "code",
   "execution_count": 35,
   "metadata": {},
   "outputs": [],
   "source": [
    "for x in df[[\"jobpost\",\"Title\",\"Company\",\"Salary\",\"Eligibility\",\"Duration\"]].iterrows():\n",
    "    text=x[1].jobpost\n",
    "    \n",
    "    _helper= trainDataGenerator(text=text)\n",
    "    \n",
    "    #title Training Data\n",
    "    _helper.add_entity(entity_name='Title',searchTerm=x[1].Title)\n",
    "    \n",
    "    #Company Training Data\n",
    "    _helper.add_entity(entity_name='Company',searchTerm=x[1].Company)\n",
    "    \n",
    "    #Salary Training Data\n",
    "    _helper.add_entity(entity_name='Salary',searchTerm=x[1].Salary)\n",
    "    \n",
    "    #Eligibility Training Data\n",
    "    _helper.add_entity(entity_name='Eligibility',searchTerm=x[1].Eligibility)\n",
    "    \n",
    "    #Duration Training Data\n",
    "    _helper.add_entity(entity_name='Duration',searchTerm=x[1].Duration)\n",
    "    \n",
    "    response= _helper.complete_entity()\n",
    "    if response==False:\n",
    "        pass\n",
    "    else:\n",
    "        TRAIN_DATA.append(response)"
   ]
  },
  {
   "cell_type": "code",
   "execution_count": 36,
   "metadata": {},
   "outputs": [
    {
     "data": {
      "text/plain": [
       "19001"
      ]
     },
     "execution_count": 36,
     "metadata": {},
     "output_type": "execute_result"
    }
   ],
   "source": [
    "len(TRAIN_DATA)"
   ]
  },
  {
   "cell_type": "code",
   "execution_count": 37,
   "metadata": {},
   "outputs": [],
   "source": [
    "TRAIN_DATA = TRAIN_DATA[::100]"
   ]
  },
  {
   "cell_type": "code",
   "execution_count": 38,
   "metadata": {},
   "outputs": [
    {
     "data": {
      "text/plain": [
       "191"
      ]
     },
     "execution_count": 38,
     "metadata": {},
     "output_type": "execute_result"
    }
   ],
   "source": [
    "len(TRAIN_DATA)"
   ]
  },
  {
   "cell_type": "markdown",
   "metadata": {},
   "source": [
    "# Model"
   ]
  },
  {
   "cell_type": "code",
   "execution_count": 45,
   "metadata": {},
   "outputs": [],
   "source": []
  },
  {
   "cell_type": "code",
   "execution_count": 65,
   "metadata": {},
   "outputs": [
    {
     "ename": "ModuleNotFoundError",
     "evalue": "No module named 'en_core_sci_lg'",
     "output_type": "error",
     "traceback": [
      "\u001b[1;31m---------------------------------------------------------------------------\u001b[0m",
      "\u001b[1;31mModuleNotFoundError\u001b[0m                       Traceback (most recent call last)",
      "\u001b[1;32m<ipython-input-65-2f31ce1b4095>\u001b[0m in \u001b[0;36m<module>\u001b[1;34m\u001b[0m\n\u001b[0;32m      2\u001b[0m \u001b[1;33m\u001b[0m\u001b[0m\n\u001b[0;32m      3\u001b[0m \u001b[1;32mfrom\u001b[0m \u001b[0mspacy\u001b[0m\u001b[1;33m.\u001b[0m\u001b[0mlanguage\u001b[0m \u001b[1;32mimport\u001b[0m \u001b[0mLanguage\u001b[0m\u001b[1;33m\u001b[0m\u001b[1;33m\u001b[0m\u001b[0m\n\u001b[1;32m----> 4\u001b[1;33m \u001b[1;32mimport\u001b[0m \u001b[0men_core_sci_lg\u001b[0m\u001b[1;33m\u001b[0m\u001b[1;33m\u001b[0m\u001b[0m\n\u001b[0m",
      "\u001b[1;31mModuleNotFoundError\u001b[0m: No module named 'en_core_sci_lg'"
     ]
    }
   ],
   "source": [
    "\n",
    "from spacy_langdetect import LanguageDetector\n",
    "\n",
    "from spacy.language import Language\n"
   ]
  },
  {
   "cell_type": "code",
   "execution_count": 66,
   "metadata": {},
   "outputs": [
    {
     "ename": "ModuleNotFoundError",
     "evalue": "No module named 'en_core_sci_lg'",
     "output_type": "error",
     "traceback": [
      "\u001b[1;31m---------------------------------------------------------------------------\u001b[0m",
      "\u001b[1;31mModuleNotFoundError\u001b[0m                       Traceback (most recent call last)",
      "\u001b[1;32m<ipython-input-66-2ab16cf700cf>\u001b[0m in \u001b[0;36m<module>\u001b[1;34m\u001b[0m\n\u001b[1;32m----> 1\u001b[1;33m \u001b[1;32mimport\u001b[0m \u001b[0men_core_sci_lg\u001b[0m\u001b[1;33m\u001b[0m\u001b[1;33m\u001b[0m\u001b[0m\n\u001b[0m",
      "\u001b[1;31mModuleNotFoundError\u001b[0m: No module named 'en_core_sci_lg'"
     ]
    }
   ],
   "source": [
    "import en_core_sci_lg"
   ]
  },
  {
   "cell_type": "code",
   "execution_count": 44,
   "metadata": {},
   "outputs": [
    {
     "name": "stdout",
     "output_type": "stream",
     "text": [
      "Collecting spacy-langdetect\n",
      "  Downloading spacy_langdetect-0.1.2-py3-none-any.whl (5.0 kB)\n",
      "Requirement already satisfied: pytest in c:\\users\\swaroop\\anaconda3\\lib\\site-packages (from spacy-langdetect) (0.0.0)\n",
      "Collecting langdetect==1.0.7\n",
      "  Downloading langdetect-1.0.7.zip (998 kB)\n",
      "Requirement already satisfied: attrs>=17.4.0 in c:\\users\\swaroop\\anaconda3\\lib\\site-packages (from pytest->spacy-langdetect) (20.3.0)\n",
      "Requirement already satisfied: iniconfig in c:\\users\\swaroop\\anaconda3\\lib\\site-packages (from pytest->spacy-langdetect) (1.1.1)\n",
      "Requirement already satisfied: packaging in c:\\users\\swaroop\\anaconda3\\lib\\site-packages (from pytest->spacy-langdetect) (20.4)\n",
      "Requirement already satisfied: pluggy<1.0,>=0.12 in c:\\users\\swaroop\\anaconda3\\lib\\site-packages (from pytest->spacy-langdetect) (0.13.1)\n",
      "Requirement already satisfied: py>=1.8.2 in c:\\users\\swaroop\\anaconda3\\lib\\site-packages (from pytest->spacy-langdetect) (1.9.0)\n",
      "Requirement already satisfied: toml in c:\\users\\swaroop\\anaconda3\\lib\\site-packages (from pytest->spacy-langdetect) (0.10.1)\n",
      "Requirement already satisfied: atomicwrites>=1.0 in c:\\users\\swaroop\\anaconda3\\lib\\site-packages (from pytest->spacy-langdetect) (1.4.0)\n",
      "Requirement already satisfied: colorama in c:\\users\\swaroop\\anaconda3\\lib\\site-packages (from pytest->spacy-langdetect) (0.4.4)\n",
      "Requirement already satisfied: six in c:\\users\\swaroop\\anaconda3\\lib\\site-packages (from langdetect==1.0.7->spacy-langdetect) (1.15.0)\n",
      "Requirement already satisfied: pyparsing>=2.0.2 in c:\\users\\swaroop\\anaconda3\\lib\\site-packages (from packaging->pytest->spacy-langdetect) (2.4.7)\n",
      "Building wheels for collected packages: langdetect\n",
      "  Building wheel for langdetect (setup.py): started\n",
      "  Building wheel for langdetect (setup.py): finished with status 'done'\n",
      "  Created wheel for langdetect: filename=langdetect-1.0.7-py3-none-any.whl size=993465 sha256=dd28e01693765e4017ec045ac5de0e44279852198ecfeac578b2df99837262f3\n",
      "  Stored in directory: c:\\users\\swaroop\\appdata\\local\\pip\\cache\\wheels\\c1\\6d\\ab\\bf9ecd1ab14dd236da586dfd0d4b008e2e803e571cf2229c26\n",
      "Successfully built langdetect\n",
      "Installing collected packages: langdetect, spacy-langdetect\n",
      "Successfully installed langdetect-1.0.7 spacy-langdetect-0.1.2\n",
      "Note: you may need to restart the kernel to use updated packages.\n"
     ]
    }
   ],
   "source": [
    "pip install spacy-langdetect"
   ]
  },
  {
   "cell_type": "code",
   "execution_count": 60,
   "metadata": {},
   "outputs": [],
   "source": [
    "class Model(object):\n",
    "    def __init__(self,modelName=\"testmodel\"):\n",
    "        self.nlp = spacy.blank(\"en\")\n",
    "        self.modelName= modelName\n",
    "        \n",
    "    def train(self, output_dir=None, n_iter=80):\n",
    "        \n",
    "        # create the built-in pipeline components and add them to the pipeline\n",
    "        # nlp.create_pipe works for built-ins that are registered with spaCy\n",
    "        def create_lang_detector(nlp, name):\n",
    "            return LanguageDetector()\n",
    "        Language.factory(\"ner\", func=create_lang_detector)\n",
    "\n",
    "        nlp = en_core_sci_lg.load(disable=[\"tagger\", \"ner\"])\n",
    "        nlp.max_length = 2000000\n",
    "        nlp.add_pipe('language_detector', last=True)\n",
    "\n",
    "\n",
    "        if \"ner\" not in self.nlp.pipe_names:\n",
    "            ner=self.nlp.create_pipe(\"ner\")\n",
    "            self.nlp.add_pipe(ner, last=True)\n",
    "        else:\n",
    "            ner= self.nlp.get_pipe(\"ner\")\n",
    "            \n",
    "        for _, annotations in TRAIN_DATA:\n",
    "            for ent in annotations.get(\"entities\"):\n",
    "                ner.add_labels(ent[2])\n",
    "                \n",
    "        #geting names of other pipelines to disable during training \n",
    "        pipe_exceptions = [\"ner\",\"trf_wordpiecer\",\"trf_tok2vec\"]\n",
    "        other_pipes= [pipe\n",
    "                      for pipe in self.nlp.pipe_names if pipe not in pipe_exceptions]\n",
    "        \n",
    "        with self.nlp.disable_pipes(*other_pipes): # we only train ner'\n",
    "            # reset and train weights randomly only if we are training new model\n",
    "            self.nlp.begin_training()\n",
    "            \n",
    "            for itn in range(n_iter):\n",
    "                print(\"iteration: {}\".format(itn))\n",
    "                random.shuffle(TRAIN_DATA)\n",
    "                \n",
    "                losses={}\n",
    "                #batch the examples using spacy's minibatch\n",
    "                batches= minibatch(TRAIN_DATA, size=compounding(4.0,32.0,1.001))\n",
    "                \n",
    "                for batch in batches:\n",
    "                    texts, annotations = zip(*batch)\n",
    "                    self.nlp.update(\n",
    "                        texts,           #batches of texts\n",
    "                        annotations,     #batches of annotations\n",
    "                        drop=0.5,        #dropout making it harder to memorise the data\n",
    "                        losses=losses,\n",
    "                    )\n",
    "                print(\"losses\",losses)\n",
    "            \n",
    "            self.nlp.to_disk(self.modelName)\n",
    "            print('Model has been trained and saved on your disk')\n",
    "            print('use nlp= spacy.load(NAME) ')\n",
    "            print(\"\\n\")\n",
    "            \n",
    "                \n",
    "        "
   ]
  },
  {
   "cell_type": "code",
   "execution_count": 62,
   "metadata": {},
   "outputs": [],
   "source": [
    "def main():\n",
    "    train= Model(modelName='jobposting')\n",
    "    response = train.train()\n",
    "        "
   ]
  },
  {
   "cell_type": "code",
   "execution_count": 63,
   "metadata": {},
   "outputs": [
    {
     "ename": "ValueError",
     "evalue": "[E966] `nlp.add_pipe` now takes the string name of the registered component factory, not a callable component. Expected string, but got <spacy.pipeline.ner.EntityRecognizer object at 0x0000017FEACD2E20> (name: 'None').\n\n- If you created your component with `nlp.create_pipe('name')`: remove nlp.create_pipe and call `nlp.add_pipe('name')` instead.\n\n- If you passed in a component like `TextCategorizer()`: call `nlp.add_pipe` with the string name instead, e.g. `nlp.add_pipe('textcat')`.\n\n- If you're using a custom component: Add the decorator `@Language.component` (for function components) or `@Language.factory` (for class components / factories) to your custom component and assign it a name, e.g. `@Language.component('your_name')`. You can then run `nlp.add_pipe('your_name')` to add it to the pipeline.",
     "output_type": "error",
     "traceback": [
      "\u001b[1;31m---------------------------------------------------------------------------\u001b[0m",
      "\u001b[1;31mValueError\u001b[0m                                Traceback (most recent call last)",
      "\u001b[1;32m<ipython-input-63-263240bbee7e>\u001b[0m in \u001b[0;36m<module>\u001b[1;34m\u001b[0m\n\u001b[1;32m----> 1\u001b[1;33m \u001b[0mmain\u001b[0m\u001b[1;33m(\u001b[0m\u001b[1;33m)\u001b[0m\u001b[1;33m\u001b[0m\u001b[1;33m\u001b[0m\u001b[0m\n\u001b[0m",
      "\u001b[1;32m<ipython-input-62-374cf005388e>\u001b[0m in \u001b[0;36mmain\u001b[1;34m()\u001b[0m\n\u001b[0;32m      1\u001b[0m \u001b[1;32mdef\u001b[0m \u001b[0mmain\u001b[0m\u001b[1;33m(\u001b[0m\u001b[1;33m)\u001b[0m\u001b[1;33m:\u001b[0m\u001b[1;33m\u001b[0m\u001b[1;33m\u001b[0m\u001b[0m\n\u001b[0;32m      2\u001b[0m     \u001b[0mtrain\u001b[0m\u001b[1;33m=\u001b[0m \u001b[0mModel\u001b[0m\u001b[1;33m(\u001b[0m\u001b[0mmodelName\u001b[0m\u001b[1;33m=\u001b[0m\u001b[1;34m'jobposting'\u001b[0m\u001b[1;33m)\u001b[0m\u001b[1;33m\u001b[0m\u001b[1;33m\u001b[0m\u001b[0m\n\u001b[1;32m----> 3\u001b[1;33m     \u001b[0mresponse\u001b[0m \u001b[1;33m=\u001b[0m \u001b[0mtrain\u001b[0m\u001b[1;33m.\u001b[0m\u001b[0mtrain\u001b[0m\u001b[1;33m(\u001b[0m\u001b[1;33m)\u001b[0m\u001b[1;33m\u001b[0m\u001b[1;33m\u001b[0m\u001b[0m\n\u001b[0m\u001b[0;32m      4\u001b[0m \u001b[1;33m\u001b[0m\u001b[0m\n",
      "\u001b[1;32m<ipython-input-60-75899642b12b>\u001b[0m in \u001b[0;36mtrain\u001b[1;34m(self, output_dir, n_iter)\u001b[0m\n\u001b[0;32m     11\u001b[0m         \u001b[1;32mif\u001b[0m \u001b[1;34m\"ner\"\u001b[0m \u001b[1;32mnot\u001b[0m \u001b[1;32min\u001b[0m \u001b[0mself\u001b[0m\u001b[1;33m.\u001b[0m\u001b[0mnlp\u001b[0m\u001b[1;33m.\u001b[0m\u001b[0mpipe_names\u001b[0m\u001b[1;33m:\u001b[0m\u001b[1;33m\u001b[0m\u001b[1;33m\u001b[0m\u001b[0m\n\u001b[0;32m     12\u001b[0m             \u001b[0mner\u001b[0m\u001b[1;33m=\u001b[0m\u001b[0mself\u001b[0m\u001b[1;33m.\u001b[0m\u001b[0mnlp\u001b[0m\u001b[1;33m.\u001b[0m\u001b[0mcreate_pipe\u001b[0m\u001b[1;33m(\u001b[0m\u001b[1;34m\"ner\"\u001b[0m\u001b[1;33m)\u001b[0m\u001b[1;33m\u001b[0m\u001b[1;33m\u001b[0m\u001b[0m\n\u001b[1;32m---> 13\u001b[1;33m             \u001b[0mself\u001b[0m\u001b[1;33m.\u001b[0m\u001b[0mnlp\u001b[0m\u001b[1;33m.\u001b[0m\u001b[0madd_pipe\u001b[0m\u001b[1;33m(\u001b[0m\u001b[0mner\u001b[0m\u001b[1;33m,\u001b[0m \u001b[0mlast\u001b[0m\u001b[1;33m=\u001b[0m\u001b[1;32mTrue\u001b[0m\u001b[1;33m)\u001b[0m\u001b[1;33m\u001b[0m\u001b[1;33m\u001b[0m\u001b[0m\n\u001b[0m\u001b[0;32m     14\u001b[0m         \u001b[1;32melse\u001b[0m\u001b[1;33m:\u001b[0m\u001b[1;33m\u001b[0m\u001b[1;33m\u001b[0m\u001b[0m\n\u001b[0;32m     15\u001b[0m             \u001b[0mner\u001b[0m\u001b[1;33m=\u001b[0m \u001b[0mself\u001b[0m\u001b[1;33m.\u001b[0m\u001b[0mnlp\u001b[0m\u001b[1;33m.\u001b[0m\u001b[0mget_pipe\u001b[0m\u001b[1;33m(\u001b[0m\u001b[1;34m\"ner\"\u001b[0m\u001b[1;33m)\u001b[0m\u001b[1;33m\u001b[0m\u001b[1;33m\u001b[0m\u001b[0m\n",
      "\u001b[1;32m~\\anaconda3\\lib\\site-packages\\spacy\\language.py\u001b[0m in \u001b[0;36madd_pipe\u001b[1;34m(self, factory_name, name, before, after, first, last, source, config, raw_config, validate)\u001b[0m\n\u001b[0;32m    747\u001b[0m             \u001b[0mbad_val\u001b[0m \u001b[1;33m=\u001b[0m \u001b[0mrepr\u001b[0m\u001b[1;33m(\u001b[0m\u001b[0mfactory_name\u001b[0m\u001b[1;33m)\u001b[0m\u001b[1;33m\u001b[0m\u001b[1;33m\u001b[0m\u001b[0m\n\u001b[0;32m    748\u001b[0m             \u001b[0merr\u001b[0m \u001b[1;33m=\u001b[0m \u001b[0mErrors\u001b[0m\u001b[1;33m.\u001b[0m\u001b[0mE966\u001b[0m\u001b[1;33m.\u001b[0m\u001b[0mformat\u001b[0m\u001b[1;33m(\u001b[0m\u001b[0mcomponent\u001b[0m\u001b[1;33m=\u001b[0m\u001b[0mbad_val\u001b[0m\u001b[1;33m,\u001b[0m \u001b[0mname\u001b[0m\u001b[1;33m=\u001b[0m\u001b[0mname\u001b[0m\u001b[1;33m)\u001b[0m\u001b[1;33m\u001b[0m\u001b[1;33m\u001b[0m\u001b[0m\n\u001b[1;32m--> 749\u001b[1;33m             \u001b[1;32mraise\u001b[0m \u001b[0mValueError\u001b[0m\u001b[1;33m(\u001b[0m\u001b[0merr\u001b[0m\u001b[1;33m)\u001b[0m\u001b[1;33m\u001b[0m\u001b[1;33m\u001b[0m\u001b[0m\n\u001b[0m\u001b[0;32m    750\u001b[0m         \u001b[0mname\u001b[0m \u001b[1;33m=\u001b[0m \u001b[0mname\u001b[0m \u001b[1;32mif\u001b[0m \u001b[0mname\u001b[0m \u001b[1;32mis\u001b[0m \u001b[1;32mnot\u001b[0m \u001b[1;32mNone\u001b[0m \u001b[1;32melse\u001b[0m \u001b[0mfactory_name\u001b[0m\u001b[1;33m\u001b[0m\u001b[1;33m\u001b[0m\u001b[0m\n\u001b[0;32m    751\u001b[0m         \u001b[1;32mif\u001b[0m \u001b[0mname\u001b[0m \u001b[1;32min\u001b[0m \u001b[0mself\u001b[0m\u001b[1;33m.\u001b[0m\u001b[0mcomponent_names\u001b[0m\u001b[1;33m:\u001b[0m\u001b[1;33m\u001b[0m\u001b[1;33m\u001b[0m\u001b[0m\n",
      "\u001b[1;31mValueError\u001b[0m: [E966] `nlp.add_pipe` now takes the string name of the registered component factory, not a callable component. Expected string, but got <spacy.pipeline.ner.EntityRecognizer object at 0x0000017FEACD2E20> (name: 'None').\n\n- If you created your component with `nlp.create_pipe('name')`: remove nlp.create_pipe and call `nlp.add_pipe('name')` instead.\n\n- If you passed in a component like `TextCategorizer()`: call `nlp.add_pipe` with the string name instead, e.g. `nlp.add_pipe('textcat')`.\n\n- If you're using a custom component: Add the decorator `@Language.component` (for function components) or `@Language.factory` (for class components / factories) to your custom component and assign it a name, e.g. `@Language.component('your_name')`. You can then run `nlp.add_pipe('your_name')` to add it to the pipeline."
     ]
    }
   ],
   "source": [
    "main()"
   ]
  },
  {
   "cell_type": "code",
   "execution_count": 58,
   "metadata": {},
   "outputs": [
    {
     "ename": "NameError",
     "evalue": "name 'nlp' is not defined",
     "output_type": "error",
     "traceback": [
      "\u001b[1;31m---------------------------------------------------------------------------\u001b[0m",
      "\u001b[1;31mNameError\u001b[0m                                 Traceback (most recent call last)",
      "\u001b[1;32m<ipython-input-58-955d4995cb3e>\u001b[0m in \u001b[0;36m<module>\u001b[1;34m\u001b[0m\n\u001b[1;32m----> 1\u001b[1;33m \u001b[0mnlp\u001b[0m\u001b[1;33m.\u001b[0m\u001b[0mpipe_names\u001b[0m\u001b[1;33m\u001b[0m\u001b[1;33m\u001b[0m\u001b[0m\n\u001b[0m",
      "\u001b[1;31mNameError\u001b[0m: name 'nlp' is not defined"
     ]
    }
   ],
   "source": [
    "nlp.pipe_names\n"
   ]
  },
  {
   "cell_type": "markdown",
   "metadata": {},
   "source": [
    "#testing the model\n",
    "\n"
   ]
  },
  {
   "cell_type": "code",
   "execution_count": null,
   "metadata": {},
   "outputs": [],
   "source": [
    "nlp = spacy.load(\"jobposting\")"
   ]
  },
  {
   "cell_type": "code",
   "execution_count": null,
   "metadata": {},
   "outputs": [],
   "source": [
    "text = \"\"\"\n",
    "'Aldo\\r\\nTITLE:  Retail Merchandiser\\r\\nSTART DATE/ TIME:  Immediate employment\\r\\nDURATION:  Long-term\\r\\nLOCATION:  Yerevan, Armenia\\r\\nJOB DESCRIPTION:  Aldo is seeking a Retail Merchandiser to drive maximum\\r\\nprofitability through planning stock intake to meet budgeted sales, build\\r\\nrelationships and work effectively with the host brand teams.\\r\\nJOB RESPONSIBILITIES:\\r\\n- Maximize and achieve revenue and profitability targets through\\r\\neffective merchandise planning and selection, product strategy and\\r\\nplanning, pricing, promotions, inventory control and vendor management;\\r\\n- Manage the buying budget and process, product pricing and margin\\r\\nmanagement;\\r\\n- Control the stock management and flow planning of all incoming product\\r\\nlines against monthly and annual budgets that includes for building and\\r\\nsupporting commercial strategies and trading plans;\\r\\n- Create seasonal sales and buying plans in order to maximize commercial\\r\\nopportunity and which meets profit objectives;\\r\\n- Work closely with marketing and operations teams to develop\\r\\nadvertisement, and sales promotions as well as arrangement of product\\r\\ncategories to adjust store inventory levels;\\r\\n- Supervise instore Visual Presentation, re-layout and re-merchandising;\\r\\n- Responsible for in-store visual merchandisers development and talent\\r\\nmanagement in order to achieve merchandising business objectives.\\r\\nREQUIRED QUALIFICATIONS:\\r\\n- University Degree in Business Administration, Finance or Marketing; \\r\\n- At least 2 years of work experience in financial analytics,\\r\\nmerchandising or product management;\\r\\n- Relevant work experience in retail organization or environment would be\\r\\nan added advantage;\\r\\n- Excellent verbal and written communication skills in English and\\r\\nArmenian languages; \\r\\n- Proven ability to motivate others; \\r\\n- Excellent analytical and numerical skill;\\r\\n- Strong entrepreneurial spirit with a passionate commitment to the\\r\\ncustomer and product quality;\\r\\n- Strong team player with good people management and strong leadership\\r\\nqualities with the ability to work with people of all levels;\\r\\n- Willingness to travel occasionally;\\r\\n- PC literacy.\\r\\nREMUNERATION/ SALARY:  Highly competitive\\r\\nAPPLICATION PROCEDURES:  Interested candidates are encouraged to submit a\\r\\nCV to: hr.franchise@... with a note of \" Retail Merchandiser \" in\\r\\nthe subject line or call 52 57 22 for inquiries. The Group thanks all who\\r\\nexpress interest in this opportunity; however only those selected for an\\r\\ninterview will be contacted. Applications privacy and confidentiality are\\r\\nguaranteed.\\r\\nPlease clearly mention in your application letter that you learned of\\r\\nthis job opportunity through Career Center and mention the URL of its\\r\\nwebsite - www.careercenter.am, Thanks.\\r\\nOPENING DATE:  30 July 2012\\r\\nAPPLICATION DEADLINE:  29 August 2012\\r\\n----------------------------------\\r\\nTo place a free posting for job or other career-related opportunities\\r\\navailable in your organization, just go to the www.careercenter.am\\r\\nwebsite and follow the \"Post an Announcement\" link.'\"\"\""
   ]
  },
  {
   "cell_type": "code",
   "execution_count": null,
   "metadata": {},
   "outputs": [],
   "source": [
    "doc = nlp(text)\n",
    "\n",
    "data = [{ent.label_: ent.text}   for ent in doc.ents]"
   ]
  },
  {
   "cell_type": "code",
   "execution_count": null,
   "metadata": {},
   "outputs": [],
   "source": [
    "data"
   ]
  }
 ],
 "metadata": {
  "kernelspec": {
   "display_name": "Python 3",
   "language": "python",
   "name": "python3"
  },
  "language_info": {
   "codemirror_mode": {
    "name": "ipython",
    "version": 3
   },
   "file_extension": ".py",
   "mimetype": "text/x-python",
   "name": "python",
   "nbconvert_exporter": "python",
   "pygments_lexer": "ipython3",
   "version": "3.8.5"
  }
 },
 "nbformat": 4,
 "nbformat_minor": 4
}
